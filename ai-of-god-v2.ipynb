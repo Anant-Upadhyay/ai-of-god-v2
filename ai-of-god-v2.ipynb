{
 "cells": [
  {
   "cell_type": "code",
   "execution_count": 1,
   "id": "e1d52217",
   "metadata": {
    "_cell_guid": "b1076dfc-b9ad-4769-8c92-a6c4dae69d19",
    "_uuid": "8f2839f25d086af736a60e9eeb907d3b93b6e0e5",
    "execution": {
     "iopub.execute_input": "2024-01-22T05:32:24.627411Z",
     "iopub.status.busy": "2024-01-22T05:32:24.627086Z",
     "iopub.status.idle": "2024-01-22T05:32:41.069946Z",
     "shell.execute_reply": "2024-01-22T05:32:41.069108Z"
    },
    "papermill": {
     "duration": 16.456504,
     "end_time": "2024-01-22T05:32:41.072283",
     "exception": false,
     "start_time": "2024-01-22T05:32:24.615779",
     "status": "completed"
    },
    "tags": []
   },
   "outputs": [
    {
     "name": "stderr",
     "output_type": "stream",
     "text": [
      "/opt/conda/lib/python3.10/site-packages/scipy/__init__.py:146: UserWarning: A NumPy version >=1.16.5 and <1.23.0 is required for this version of SciPy (detected version 1.23.5\n",
      "  warnings.warn(f\"A NumPy version >={np_minversion} and <{np_maxversion}\"\n"
     ]
    }
   ],
   "source": [
    "# !pip install timm\n",
    "import numpy as np\n",
    "import pandas as pd\n",
    "import os\n",
    "import timm\n",
    "import torch\n",
    "import torch.nn as nn\n",
    "import torch.optim as optim \n",
    "import torch.nn.functional as F\n",
    "import albumentations as A\n",
    "from torch.utils.data import Dataset,DataLoader,WeightedRandomSampler,random_split\n",
    "from PIL import Image\n",
    "import cv2 as cv\n",
    "import matplotlib.pyplot as plt\n",
    "from albumentations.pytorch.transforms import ToTensorV2\n",
    "import torchvision\n",
    "import torchvision.transforms as transforms\n",
    "from torchvision.ops import sigmoid_focal_loss\n",
    "import torchmetrics\n",
    "from torchmetrics.classification import MulticlassF1Score as F1Score\n",
    "from sklearn.metrics import f1_score\n",
    "torch.manual_seed(69)\n",
    "np.random.seed(69)\n",
    "import matplotlib.pyplot as plt"
   ]
  },
  {
   "cell_type": "code",
   "execution_count": 2,
   "id": "2a09b1ef",
   "metadata": {
    "execution": {
     "iopub.execute_input": "2024-01-22T05:32:41.094032Z",
     "iopub.status.busy": "2024-01-22T05:32:41.093316Z",
     "iopub.status.idle": "2024-01-22T05:32:41.297560Z",
     "shell.execute_reply": "2024-01-22T05:32:41.296793Z"
    },
    "papermill": {
     "duration": 0.216979,
     "end_time": "2024-01-22T05:32:41.299780",
     "exception": false,
     "start_time": "2024-01-22T05:32:41.082801",
     "status": "completed"
    },
    "tags": []
   },
   "outputs": [],
   "source": [
    "fold=np.sort(os.listdir('/kaggle/input/ai-of-god-v20/train'))"
   ]
  },
  {
   "cell_type": "code",
   "execution_count": 3,
   "id": "4860df69",
   "metadata": {
    "execution": {
     "iopub.execute_input": "2024-01-22T05:32:41.320426Z",
     "iopub.status.busy": "2024-01-22T05:32:41.320139Z",
     "iopub.status.idle": "2024-01-22T05:32:41.324306Z",
     "shell.execute_reply": "2024-01-22T05:32:41.323418Z"
    },
    "papermill": {
     "duration": 0.016442,
     "end_time": "2024-01-22T05:32:41.326110",
     "exception": false,
     "start_time": "2024-01-22T05:32:41.309668",
     "status": "completed"
    },
    "tags": []
   },
   "outputs": [],
   "source": [
    "device=torch.device('cuda')"
   ]
  },
  {
   "cell_type": "code",
   "execution_count": 4,
   "id": "4807d9f1",
   "metadata": {
    "execution": {
     "iopub.execute_input": "2024-01-22T05:32:41.345995Z",
     "iopub.status.busy": "2024-01-22T05:32:41.345717Z",
     "iopub.status.idle": "2024-01-22T05:32:41.351330Z",
     "shell.execute_reply": "2024-01-22T05:32:41.350465Z"
    },
    "papermill": {
     "duration": 0.017758,
     "end_time": "2024-01-22T05:32:41.353331",
     "exception": false,
     "start_time": "2024-01-22T05:32:41.335573",
     "status": "completed"
    },
    "tags": []
   },
   "outputs": [],
   "source": [
    "transform = A.Compose(\n",
    "    [\n",
    "        A.Resize(256,256),\n",
    "        A.RandomCrop(224,224),\n",
    "#         A.CenterCrop(224,224),\n",
    "        A.Normalize(mean=(0.485, 0.456, 0.406), std=(0.229, 0.224, 0.225)),\n",
    "        A.HorizontalFlip(p=0.5),\n",
    "        A.VerticalFlip(p=0.5),\n",
    "        ToTensorV2()\n",
    "    ]\n",
    ")"
   ]
  },
  {
   "cell_type": "code",
   "execution_count": 5,
   "id": "2207ebe1",
   "metadata": {
    "execution": {
     "iopub.execute_input": "2024-01-22T05:32:41.373323Z",
     "iopub.status.busy": "2024-01-22T05:32:41.373080Z",
     "iopub.status.idle": "2024-01-22T05:32:41.382257Z",
     "shell.execute_reply": "2024-01-22T05:32:41.381391Z"
    },
    "papermill": {
     "duration": 0.021438,
     "end_time": "2024-01-22T05:32:41.384239",
     "exception": false,
     "start_time": "2024-01-22T05:32:41.362801",
     "status": "completed"
    },
    "tags": []
   },
   "outputs": [],
   "source": [
    "class dataset(Dataset):\n",
    "    def __init__(self,folder=None,labels=None):\n",
    "        self.transform=transform\n",
    "        self.folder=folder\n",
    "        self.plabels=pd.read_csv(labels)\n",
    "        self.lis=np.sort(os.listdir(folder))\n",
    "        self.labels=np.array(pd.read_csv(labels))\n",
    "        \n",
    "    def __len__(self):    \n",
    "        return self.plabels.shape[0]\n",
    "    def __getitem__(self,idx):\n",
    "        y = torch.tensor((np.array(self.plabels[self.plabels['FileName']==self.lis[idx]]['Class']))\n",
    "                             ,dtype=torch.long)\n",
    "#         if y != 0:\n",
    "        img=cv.cvtColor(np.array(Image.open(self.folder+'/'+self.lis[idx])),cv.COLOR_GRAY2RGB)\n",
    "        x=self.transform(image=img)\n",
    "        x['image']=(x['image'].type(torch.float32)).to(device)\n",
    "        return{\n",
    "            'x':x['image'],\n",
    "            'y':y.to(device),\n",
    "        }\n",
    "        \n",
    "    def labels_counts(self):\n",
    "        a,b=np.unique(self.labels[:,1],return_counts=True)\n",
    "        size={}\n",
    "        for i in range(a.size):\n",
    "            size[a[i]]=b[i]\n",
    "        return size"
   ]
  },
  {
   "cell_type": "code",
   "execution_count": 6,
   "id": "3006c1ca",
   "metadata": {
    "execution": {
     "iopub.execute_input": "2024-01-22T05:32:41.404242Z",
     "iopub.status.busy": "2024-01-22T05:32:41.403974Z",
     "iopub.status.idle": "2024-01-22T05:32:41.433299Z",
     "shell.execute_reply": "2024-01-22T05:32:41.432519Z"
    },
    "papermill": {
     "duration": 0.042094,
     "end_time": "2024-01-22T05:32:41.435833",
     "exception": false,
     "start_time": "2024-01-22T05:32:41.393739",
     "status": "completed"
    },
    "tags": []
   },
   "outputs": [],
   "source": [
    "data=dataset('/kaggle/input/ai-of-god-v20/train','/kaggle/input/ai-of-god-v20/train.csv')"
   ]
  },
  {
   "cell_type": "code",
   "execution_count": 7,
   "id": "55d5900a",
   "metadata": {
    "execution": {
     "iopub.execute_input": "2024-01-22T05:32:41.456806Z",
     "iopub.status.busy": "2024-01-22T05:32:41.456458Z",
     "iopub.status.idle": "2024-01-22T05:32:41.462826Z",
     "shell.execute_reply": "2024-01-22T05:32:41.461983Z"
    },
    "papermill": {
     "duration": 0.018682,
     "end_time": "2024-01-22T05:32:41.464844",
     "exception": false,
     "start_time": "2024-01-22T05:32:41.446162",
     "status": "completed"
    },
    "tags": []
   },
   "outputs": [
    {
     "data": {
      "text/plain": [
       "8201"
      ]
     },
     "execution_count": 7,
     "metadata": {},
     "output_type": "execute_result"
    }
   ],
   "source": [
    "len(data)"
   ]
  },
  {
   "cell_type": "code",
   "execution_count": 8,
   "id": "02a32f4c",
   "metadata": {
    "execution": {
     "iopub.execute_input": "2024-01-22T05:32:41.485402Z",
     "iopub.status.busy": "2024-01-22T05:32:41.485141Z",
     "iopub.status.idle": "2024-01-22T05:32:41.996093Z",
     "shell.execute_reply": "2024-01-22T05:32:41.994772Z"
    },
    "papermill": {
     "duration": 0.523617,
     "end_time": "2024-01-22T05:32:41.998122",
     "exception": false,
     "start_time": "2024-01-22T05:32:41.474505",
     "status": "completed"
    },
    "tags": []
   },
   "outputs": [
    {
     "name": "stdout",
     "output_type": "stream",
     "text": [
      "{'x': tensor([[[ 0.0569,  0.0912,  0.1426,  ...,  0.1939,  0.2624,  0.3652],\n",
      "         [ 0.0569,  0.1083,  0.1597,  ...,  0.1768,  0.2282,  0.3652],\n",
      "         [ 0.0398,  0.1254,  0.1597,  ...,  0.1768,  0.2282,  0.3652],\n",
      "         ...,\n",
      "         [-0.2684, -0.3198, -0.3712,  ...,  0.2967,  0.3481,  0.3138],\n",
      "         [-0.2513, -0.3541, -0.4568,  ...,  0.2967,  0.3138,  0.2796],\n",
      "         [-0.1999, -0.3198, -0.4568,  ...,  0.2453,  0.2453,  0.2111]],\n",
      "\n",
      "        [[ 0.1877,  0.2227,  0.2752,  ...,  0.3277,  0.3978,  0.5028],\n",
      "         [ 0.1877,  0.2402,  0.2927,  ...,  0.3102,  0.3627,  0.5028],\n",
      "         [ 0.1702,  0.2577,  0.2927,  ...,  0.3102,  0.3627,  0.5028],\n",
      "         ...,\n",
      "         [-0.1450, -0.1975, -0.2500,  ...,  0.4328,  0.4853,  0.4503],\n",
      "         [-0.1275, -0.2325, -0.3375,  ...,  0.4328,  0.4503,  0.4153],\n",
      "         [-0.0749, -0.1975, -0.3375,  ...,  0.3803,  0.3803,  0.3452]],\n",
      "\n",
      "        [[ 0.4091,  0.4439,  0.4962,  ...,  0.5485,  0.6182,  0.7228],\n",
      "         [ 0.4091,  0.4614,  0.5136,  ...,  0.5311,  0.5834,  0.7228],\n",
      "         [ 0.3916,  0.4788,  0.5136,  ...,  0.5311,  0.5834,  0.7228],\n",
      "         ...,\n",
      "         [ 0.0779,  0.0256, -0.0267,  ...,  0.6531,  0.7054,  0.6705],\n",
      "         [ 0.0953, -0.0092, -0.1138,  ...,  0.6531,  0.6705,  0.6356],\n",
      "         [ 0.1476,  0.0256, -0.1138,  ...,  0.6008,  0.6008,  0.5659]]],\n",
      "       device='cuda:0'), 'y': tensor([0], device='cuda:0')}\n"
     ]
    }
   ],
   "source": [
    "train,val=random_split(data,[7000,len(data)- 7000])\n",
    "print(train[0])"
   ]
  },
  {
   "cell_type": "code",
   "execution_count": 9,
   "id": "db712fe1",
   "metadata": {
    "execution": {
     "iopub.execute_input": "2024-01-22T05:32:42.019467Z",
     "iopub.status.busy": "2024-01-22T05:32:42.018789Z",
     "iopub.status.idle": "2024-01-22T05:32:42.024970Z",
     "shell.execute_reply": "2024-01-22T05:32:42.023981Z"
    },
    "papermill": {
     "duration": 0.019166,
     "end_time": "2024-01-22T05:32:42.027313",
     "exception": false,
     "start_time": "2024-01-22T05:32:42.008147",
     "status": "completed"
    },
    "tags": []
   },
   "outputs": [
    {
     "name": "stdout",
     "output_type": "stream",
     "text": [
      "7000\n"
     ]
    },
    {
     "data": {
      "text/plain": [
       "1201"
      ]
     },
     "execution_count": 9,
     "metadata": {},
     "output_type": "execute_result"
    }
   ],
   "source": [
    "print(len(train))\n",
    "len(val)"
   ]
  },
  {
   "cell_type": "code",
   "execution_count": 10,
   "id": "e4069a76",
   "metadata": {
    "execution": {
     "iopub.execute_input": "2024-01-22T05:32:42.048211Z",
     "iopub.status.busy": "2024-01-22T05:32:42.047955Z",
     "iopub.status.idle": "2024-01-22T05:32:42.780717Z",
     "shell.execute_reply": "2024-01-22T05:32:42.779792Z"
    },
    "papermill": {
     "duration": 0.745541,
     "end_time": "2024-01-22T05:32:42.782812",
     "exception": false,
     "start_time": "2024-01-22T05:32:42.037271",
     "status": "completed"
    },
    "tags": []
   },
   "outputs": [
    {
     "data": {
      "application/vnd.jupyter.widget-view+json": {
       "model_id": "acf507ec335e4c05a10b3c179ce447b4",
       "version_major": 2,
       "version_minor": 0
      },
      "text/plain": [
       "Downloading model.safetensors:   0%|          | 0.00/21.4M [00:00<?, ?B/s]"
      ]
     },
     "metadata": {},
     "output_type": "display_data"
    }
   ],
   "source": [
    "model_timm=timm.create_model(\"efficientnet_b0\",pretrained=True)\n"
   ]
  },
  {
   "cell_type": "code",
   "execution_count": 11,
   "id": "32131898",
   "metadata": {
    "execution": {
     "iopub.execute_input": "2024-01-22T05:32:42.806178Z",
     "iopub.status.busy": "2024-01-22T05:32:42.805890Z",
     "iopub.status.idle": "2024-01-22T05:32:42.816741Z",
     "shell.execute_reply": "2024-01-22T05:32:42.815913Z"
    },
    "papermill": {
     "duration": 0.023874,
     "end_time": "2024-01-22T05:32:42.818482",
     "exception": false,
     "start_time": "2024-01-22T05:32:42.794608",
     "status": "completed"
    },
    "tags": []
   },
   "outputs": [
    {
     "data": {
      "text/plain": [
       "EfficientNet(\n",
       "  (conv_stem): Conv2d(3, 32, kernel_size=(3, 3), stride=(2, 2), padding=(1, 1), bias=False)\n",
       "  (bn1): BatchNormAct2d(\n",
       "    32, eps=1e-05, momentum=0.1, affine=True, track_running_stats=True\n",
       "    (drop): Identity()\n",
       "    (act): SiLU(inplace=True)\n",
       "  )\n",
       "  (blocks): Sequential(\n",
       "    (0): Sequential(\n",
       "      (0): DepthwiseSeparableConv(\n",
       "        (conv_dw): Conv2d(32, 32, kernel_size=(3, 3), stride=(1, 1), padding=(1, 1), groups=32, bias=False)\n",
       "        (bn1): BatchNormAct2d(\n",
       "          32, eps=1e-05, momentum=0.1, affine=True, track_running_stats=True\n",
       "          (drop): Identity()\n",
       "          (act): SiLU(inplace=True)\n",
       "        )\n",
       "        (se): SqueezeExcite(\n",
       "          (conv_reduce): Conv2d(32, 8, kernel_size=(1, 1), stride=(1, 1))\n",
       "          (act1): SiLU(inplace=True)\n",
       "          (conv_expand): Conv2d(8, 32, kernel_size=(1, 1), stride=(1, 1))\n",
       "          (gate): Sigmoid()\n",
       "        )\n",
       "        (conv_pw): Conv2d(32, 16, kernel_size=(1, 1), stride=(1, 1), bias=False)\n",
       "        (bn2): BatchNormAct2d(\n",
       "          16, eps=1e-05, momentum=0.1, affine=True, track_running_stats=True\n",
       "          (drop): Identity()\n",
       "          (act): Identity()\n",
       "        )\n",
       "        (drop_path): Identity()\n",
       "      )\n",
       "    )\n",
       "    (1): Sequential(\n",
       "      (0): InvertedResidual(\n",
       "        (conv_pw): Conv2d(16, 96, kernel_size=(1, 1), stride=(1, 1), bias=False)\n",
       "        (bn1): BatchNormAct2d(\n",
       "          96, eps=1e-05, momentum=0.1, affine=True, track_running_stats=True\n",
       "          (drop): Identity()\n",
       "          (act): SiLU(inplace=True)\n",
       "        )\n",
       "        (conv_dw): Conv2d(96, 96, kernel_size=(3, 3), stride=(2, 2), padding=(1, 1), groups=96, bias=False)\n",
       "        (bn2): BatchNormAct2d(\n",
       "          96, eps=1e-05, momentum=0.1, affine=True, track_running_stats=True\n",
       "          (drop): Identity()\n",
       "          (act): SiLU(inplace=True)\n",
       "        )\n",
       "        (se): SqueezeExcite(\n",
       "          (conv_reduce): Conv2d(96, 4, kernel_size=(1, 1), stride=(1, 1))\n",
       "          (act1): SiLU(inplace=True)\n",
       "          (conv_expand): Conv2d(4, 96, kernel_size=(1, 1), stride=(1, 1))\n",
       "          (gate): Sigmoid()\n",
       "        )\n",
       "        (conv_pwl): Conv2d(96, 24, kernel_size=(1, 1), stride=(1, 1), bias=False)\n",
       "        (bn3): BatchNormAct2d(\n",
       "          24, eps=1e-05, momentum=0.1, affine=True, track_running_stats=True\n",
       "          (drop): Identity()\n",
       "          (act): Identity()\n",
       "        )\n",
       "        (drop_path): Identity()\n",
       "      )\n",
       "      (1): InvertedResidual(\n",
       "        (conv_pw): Conv2d(24, 144, kernel_size=(1, 1), stride=(1, 1), bias=False)\n",
       "        (bn1): BatchNormAct2d(\n",
       "          144, eps=1e-05, momentum=0.1, affine=True, track_running_stats=True\n",
       "          (drop): Identity()\n",
       "          (act): SiLU(inplace=True)\n",
       "        )\n",
       "        (conv_dw): Conv2d(144, 144, kernel_size=(3, 3), stride=(1, 1), padding=(1, 1), groups=144, bias=False)\n",
       "        (bn2): BatchNormAct2d(\n",
       "          144, eps=1e-05, momentum=0.1, affine=True, track_running_stats=True\n",
       "          (drop): Identity()\n",
       "          (act): SiLU(inplace=True)\n",
       "        )\n",
       "        (se): SqueezeExcite(\n",
       "          (conv_reduce): Conv2d(144, 6, kernel_size=(1, 1), stride=(1, 1))\n",
       "          (act1): SiLU(inplace=True)\n",
       "          (conv_expand): Conv2d(6, 144, kernel_size=(1, 1), stride=(1, 1))\n",
       "          (gate): Sigmoid()\n",
       "        )\n",
       "        (conv_pwl): Conv2d(144, 24, kernel_size=(1, 1), stride=(1, 1), bias=False)\n",
       "        (bn3): BatchNormAct2d(\n",
       "          24, eps=1e-05, momentum=0.1, affine=True, track_running_stats=True\n",
       "          (drop): Identity()\n",
       "          (act): Identity()\n",
       "        )\n",
       "        (drop_path): Identity()\n",
       "      )\n",
       "    )\n",
       "    (2): Sequential(\n",
       "      (0): InvertedResidual(\n",
       "        (conv_pw): Conv2d(24, 144, kernel_size=(1, 1), stride=(1, 1), bias=False)\n",
       "        (bn1): BatchNormAct2d(\n",
       "          144, eps=1e-05, momentum=0.1, affine=True, track_running_stats=True\n",
       "          (drop): Identity()\n",
       "          (act): SiLU(inplace=True)\n",
       "        )\n",
       "        (conv_dw): Conv2d(144, 144, kernel_size=(5, 5), stride=(2, 2), padding=(2, 2), groups=144, bias=False)\n",
       "        (bn2): BatchNormAct2d(\n",
       "          144, eps=1e-05, momentum=0.1, affine=True, track_running_stats=True\n",
       "          (drop): Identity()\n",
       "          (act): SiLU(inplace=True)\n",
       "        )\n",
       "        (se): SqueezeExcite(\n",
       "          (conv_reduce): Conv2d(144, 6, kernel_size=(1, 1), stride=(1, 1))\n",
       "          (act1): SiLU(inplace=True)\n",
       "          (conv_expand): Conv2d(6, 144, kernel_size=(1, 1), stride=(1, 1))\n",
       "          (gate): Sigmoid()\n",
       "        )\n",
       "        (conv_pwl): Conv2d(144, 40, kernel_size=(1, 1), stride=(1, 1), bias=False)\n",
       "        (bn3): BatchNormAct2d(\n",
       "          40, eps=1e-05, momentum=0.1, affine=True, track_running_stats=True\n",
       "          (drop): Identity()\n",
       "          (act): Identity()\n",
       "        )\n",
       "        (drop_path): Identity()\n",
       "      )\n",
       "      (1): InvertedResidual(\n",
       "        (conv_pw): Conv2d(40, 240, kernel_size=(1, 1), stride=(1, 1), bias=False)\n",
       "        (bn1): BatchNormAct2d(\n",
       "          240, eps=1e-05, momentum=0.1, affine=True, track_running_stats=True\n",
       "          (drop): Identity()\n",
       "          (act): SiLU(inplace=True)\n",
       "        )\n",
       "        (conv_dw): Conv2d(240, 240, kernel_size=(5, 5), stride=(1, 1), padding=(2, 2), groups=240, bias=False)\n",
       "        (bn2): BatchNormAct2d(\n",
       "          240, eps=1e-05, momentum=0.1, affine=True, track_running_stats=True\n",
       "          (drop): Identity()\n",
       "          (act): SiLU(inplace=True)\n",
       "        )\n",
       "        (se): SqueezeExcite(\n",
       "          (conv_reduce): Conv2d(240, 10, kernel_size=(1, 1), stride=(1, 1))\n",
       "          (act1): SiLU(inplace=True)\n",
       "          (conv_expand): Conv2d(10, 240, kernel_size=(1, 1), stride=(1, 1))\n",
       "          (gate): Sigmoid()\n",
       "        )\n",
       "        (conv_pwl): Conv2d(240, 40, kernel_size=(1, 1), stride=(1, 1), bias=False)\n",
       "        (bn3): BatchNormAct2d(\n",
       "          40, eps=1e-05, momentum=0.1, affine=True, track_running_stats=True\n",
       "          (drop): Identity()\n",
       "          (act): Identity()\n",
       "        )\n",
       "        (drop_path): Identity()\n",
       "      )\n",
       "    )\n",
       "    (3): Sequential(\n",
       "      (0): InvertedResidual(\n",
       "        (conv_pw): Conv2d(40, 240, kernel_size=(1, 1), stride=(1, 1), bias=False)\n",
       "        (bn1): BatchNormAct2d(\n",
       "          240, eps=1e-05, momentum=0.1, affine=True, track_running_stats=True\n",
       "          (drop): Identity()\n",
       "          (act): SiLU(inplace=True)\n",
       "        )\n",
       "        (conv_dw): Conv2d(240, 240, kernel_size=(3, 3), stride=(2, 2), padding=(1, 1), groups=240, bias=False)\n",
       "        (bn2): BatchNormAct2d(\n",
       "          240, eps=1e-05, momentum=0.1, affine=True, track_running_stats=True\n",
       "          (drop): Identity()\n",
       "          (act): SiLU(inplace=True)\n",
       "        )\n",
       "        (se): SqueezeExcite(\n",
       "          (conv_reduce): Conv2d(240, 10, kernel_size=(1, 1), stride=(1, 1))\n",
       "          (act1): SiLU(inplace=True)\n",
       "          (conv_expand): Conv2d(10, 240, kernel_size=(1, 1), stride=(1, 1))\n",
       "          (gate): Sigmoid()\n",
       "        )\n",
       "        (conv_pwl): Conv2d(240, 80, kernel_size=(1, 1), stride=(1, 1), bias=False)\n",
       "        (bn3): BatchNormAct2d(\n",
       "          80, eps=1e-05, momentum=0.1, affine=True, track_running_stats=True\n",
       "          (drop): Identity()\n",
       "          (act): Identity()\n",
       "        )\n",
       "        (drop_path): Identity()\n",
       "      )\n",
       "      (1): InvertedResidual(\n",
       "        (conv_pw): Conv2d(80, 480, kernel_size=(1, 1), stride=(1, 1), bias=False)\n",
       "        (bn1): BatchNormAct2d(\n",
       "          480, eps=1e-05, momentum=0.1, affine=True, track_running_stats=True\n",
       "          (drop): Identity()\n",
       "          (act): SiLU(inplace=True)\n",
       "        )\n",
       "        (conv_dw): Conv2d(480, 480, kernel_size=(3, 3), stride=(1, 1), padding=(1, 1), groups=480, bias=False)\n",
       "        (bn2): BatchNormAct2d(\n",
       "          480, eps=1e-05, momentum=0.1, affine=True, track_running_stats=True\n",
       "          (drop): Identity()\n",
       "          (act): SiLU(inplace=True)\n",
       "        )\n",
       "        (se): SqueezeExcite(\n",
       "          (conv_reduce): Conv2d(480, 20, kernel_size=(1, 1), stride=(1, 1))\n",
       "          (act1): SiLU(inplace=True)\n",
       "          (conv_expand): Conv2d(20, 480, kernel_size=(1, 1), stride=(1, 1))\n",
       "          (gate): Sigmoid()\n",
       "        )\n",
       "        (conv_pwl): Conv2d(480, 80, kernel_size=(1, 1), stride=(1, 1), bias=False)\n",
       "        (bn3): BatchNormAct2d(\n",
       "          80, eps=1e-05, momentum=0.1, affine=True, track_running_stats=True\n",
       "          (drop): Identity()\n",
       "          (act): Identity()\n",
       "        )\n",
       "        (drop_path): Identity()\n",
       "      )\n",
       "      (2): InvertedResidual(\n",
       "        (conv_pw): Conv2d(80, 480, kernel_size=(1, 1), stride=(1, 1), bias=False)\n",
       "        (bn1): BatchNormAct2d(\n",
       "          480, eps=1e-05, momentum=0.1, affine=True, track_running_stats=True\n",
       "          (drop): Identity()\n",
       "          (act): SiLU(inplace=True)\n",
       "        )\n",
       "        (conv_dw): Conv2d(480, 480, kernel_size=(3, 3), stride=(1, 1), padding=(1, 1), groups=480, bias=False)\n",
       "        (bn2): BatchNormAct2d(\n",
       "          480, eps=1e-05, momentum=0.1, affine=True, track_running_stats=True\n",
       "          (drop): Identity()\n",
       "          (act): SiLU(inplace=True)\n",
       "        )\n",
       "        (se): SqueezeExcite(\n",
       "          (conv_reduce): Conv2d(480, 20, kernel_size=(1, 1), stride=(1, 1))\n",
       "          (act1): SiLU(inplace=True)\n",
       "          (conv_expand): Conv2d(20, 480, kernel_size=(1, 1), stride=(1, 1))\n",
       "          (gate): Sigmoid()\n",
       "        )\n",
       "        (conv_pwl): Conv2d(480, 80, kernel_size=(1, 1), stride=(1, 1), bias=False)\n",
       "        (bn3): BatchNormAct2d(\n",
       "          80, eps=1e-05, momentum=0.1, affine=True, track_running_stats=True\n",
       "          (drop): Identity()\n",
       "          (act): Identity()\n",
       "        )\n",
       "        (drop_path): Identity()\n",
       "      )\n",
       "    )\n",
       "    (4): Sequential(\n",
       "      (0): InvertedResidual(\n",
       "        (conv_pw): Conv2d(80, 480, kernel_size=(1, 1), stride=(1, 1), bias=False)\n",
       "        (bn1): BatchNormAct2d(\n",
       "          480, eps=1e-05, momentum=0.1, affine=True, track_running_stats=True\n",
       "          (drop): Identity()\n",
       "          (act): SiLU(inplace=True)\n",
       "        )\n",
       "        (conv_dw): Conv2d(480, 480, kernel_size=(5, 5), stride=(1, 1), padding=(2, 2), groups=480, bias=False)\n",
       "        (bn2): BatchNormAct2d(\n",
       "          480, eps=1e-05, momentum=0.1, affine=True, track_running_stats=True\n",
       "          (drop): Identity()\n",
       "          (act): SiLU(inplace=True)\n",
       "        )\n",
       "        (se): SqueezeExcite(\n",
       "          (conv_reduce): Conv2d(480, 20, kernel_size=(1, 1), stride=(1, 1))\n",
       "          (act1): SiLU(inplace=True)\n",
       "          (conv_expand): Conv2d(20, 480, kernel_size=(1, 1), stride=(1, 1))\n",
       "          (gate): Sigmoid()\n",
       "        )\n",
       "        (conv_pwl): Conv2d(480, 112, kernel_size=(1, 1), stride=(1, 1), bias=False)\n",
       "        (bn3): BatchNormAct2d(\n",
       "          112, eps=1e-05, momentum=0.1, affine=True, track_running_stats=True\n",
       "          (drop): Identity()\n",
       "          (act): Identity()\n",
       "        )\n",
       "        (drop_path): Identity()\n",
       "      )\n",
       "      (1): InvertedResidual(\n",
       "        (conv_pw): Conv2d(112, 672, kernel_size=(1, 1), stride=(1, 1), bias=False)\n",
       "        (bn1): BatchNormAct2d(\n",
       "          672, eps=1e-05, momentum=0.1, affine=True, track_running_stats=True\n",
       "          (drop): Identity()\n",
       "          (act): SiLU(inplace=True)\n",
       "        )\n",
       "        (conv_dw): Conv2d(672, 672, kernel_size=(5, 5), stride=(1, 1), padding=(2, 2), groups=672, bias=False)\n",
       "        (bn2): BatchNormAct2d(\n",
       "          672, eps=1e-05, momentum=0.1, affine=True, track_running_stats=True\n",
       "          (drop): Identity()\n",
       "          (act): SiLU(inplace=True)\n",
       "        )\n",
       "        (se): SqueezeExcite(\n",
       "          (conv_reduce): Conv2d(672, 28, kernel_size=(1, 1), stride=(1, 1))\n",
       "          (act1): SiLU(inplace=True)\n",
       "          (conv_expand): Conv2d(28, 672, kernel_size=(1, 1), stride=(1, 1))\n",
       "          (gate): Sigmoid()\n",
       "        )\n",
       "        (conv_pwl): Conv2d(672, 112, kernel_size=(1, 1), stride=(1, 1), bias=False)\n",
       "        (bn3): BatchNormAct2d(\n",
       "          112, eps=1e-05, momentum=0.1, affine=True, track_running_stats=True\n",
       "          (drop): Identity()\n",
       "          (act): Identity()\n",
       "        )\n",
       "        (drop_path): Identity()\n",
       "      )\n",
       "      (2): InvertedResidual(\n",
       "        (conv_pw): Conv2d(112, 672, kernel_size=(1, 1), stride=(1, 1), bias=False)\n",
       "        (bn1): BatchNormAct2d(\n",
       "          672, eps=1e-05, momentum=0.1, affine=True, track_running_stats=True\n",
       "          (drop): Identity()\n",
       "          (act): SiLU(inplace=True)\n",
       "        )\n",
       "        (conv_dw): Conv2d(672, 672, kernel_size=(5, 5), stride=(1, 1), padding=(2, 2), groups=672, bias=False)\n",
       "        (bn2): BatchNormAct2d(\n",
       "          672, eps=1e-05, momentum=0.1, affine=True, track_running_stats=True\n",
       "          (drop): Identity()\n",
       "          (act): SiLU(inplace=True)\n",
       "        )\n",
       "        (se): SqueezeExcite(\n",
       "          (conv_reduce): Conv2d(672, 28, kernel_size=(1, 1), stride=(1, 1))\n",
       "          (act1): SiLU(inplace=True)\n",
       "          (conv_expand): Conv2d(28, 672, kernel_size=(1, 1), stride=(1, 1))\n",
       "          (gate): Sigmoid()\n",
       "        )\n",
       "        (conv_pwl): Conv2d(672, 112, kernel_size=(1, 1), stride=(1, 1), bias=False)\n",
       "        (bn3): BatchNormAct2d(\n",
       "          112, eps=1e-05, momentum=0.1, affine=True, track_running_stats=True\n",
       "          (drop): Identity()\n",
       "          (act): Identity()\n",
       "        )\n",
       "        (drop_path): Identity()\n",
       "      )\n",
       "    )\n",
       "    (5): Sequential(\n",
       "      (0): InvertedResidual(\n",
       "        (conv_pw): Conv2d(112, 672, kernel_size=(1, 1), stride=(1, 1), bias=False)\n",
       "        (bn1): BatchNormAct2d(\n",
       "          672, eps=1e-05, momentum=0.1, affine=True, track_running_stats=True\n",
       "          (drop): Identity()\n",
       "          (act): SiLU(inplace=True)\n",
       "        )\n",
       "        (conv_dw): Conv2d(672, 672, kernel_size=(5, 5), stride=(2, 2), padding=(2, 2), groups=672, bias=False)\n",
       "        (bn2): BatchNormAct2d(\n",
       "          672, eps=1e-05, momentum=0.1, affine=True, track_running_stats=True\n",
       "          (drop): Identity()\n",
       "          (act): SiLU(inplace=True)\n",
       "        )\n",
       "        (se): SqueezeExcite(\n",
       "          (conv_reduce): Conv2d(672, 28, kernel_size=(1, 1), stride=(1, 1))\n",
       "          (act1): SiLU(inplace=True)\n",
       "          (conv_expand): Conv2d(28, 672, kernel_size=(1, 1), stride=(1, 1))\n",
       "          (gate): Sigmoid()\n",
       "        )\n",
       "        (conv_pwl): Conv2d(672, 192, kernel_size=(1, 1), stride=(1, 1), bias=False)\n",
       "        (bn3): BatchNormAct2d(\n",
       "          192, eps=1e-05, momentum=0.1, affine=True, track_running_stats=True\n",
       "          (drop): Identity()\n",
       "          (act): Identity()\n",
       "        )\n",
       "        (drop_path): Identity()\n",
       "      )\n",
       "      (1): InvertedResidual(\n",
       "        (conv_pw): Conv2d(192, 1152, kernel_size=(1, 1), stride=(1, 1), bias=False)\n",
       "        (bn1): BatchNormAct2d(\n",
       "          1152, eps=1e-05, momentum=0.1, affine=True, track_running_stats=True\n",
       "          (drop): Identity()\n",
       "          (act): SiLU(inplace=True)\n",
       "        )\n",
       "        (conv_dw): Conv2d(1152, 1152, kernel_size=(5, 5), stride=(1, 1), padding=(2, 2), groups=1152, bias=False)\n",
       "        (bn2): BatchNormAct2d(\n",
       "          1152, eps=1e-05, momentum=0.1, affine=True, track_running_stats=True\n",
       "          (drop): Identity()\n",
       "          (act): SiLU(inplace=True)\n",
       "        )\n",
       "        (se): SqueezeExcite(\n",
       "          (conv_reduce): Conv2d(1152, 48, kernel_size=(1, 1), stride=(1, 1))\n",
       "          (act1): SiLU(inplace=True)\n",
       "          (conv_expand): Conv2d(48, 1152, kernel_size=(1, 1), stride=(1, 1))\n",
       "          (gate): Sigmoid()\n",
       "        )\n",
       "        (conv_pwl): Conv2d(1152, 192, kernel_size=(1, 1), stride=(1, 1), bias=False)\n",
       "        (bn3): BatchNormAct2d(\n",
       "          192, eps=1e-05, momentum=0.1, affine=True, track_running_stats=True\n",
       "          (drop): Identity()\n",
       "          (act): Identity()\n",
       "        )\n",
       "        (drop_path): Identity()\n",
       "      )\n",
       "      (2): InvertedResidual(\n",
       "        (conv_pw): Conv2d(192, 1152, kernel_size=(1, 1), stride=(1, 1), bias=False)\n",
       "        (bn1): BatchNormAct2d(\n",
       "          1152, eps=1e-05, momentum=0.1, affine=True, track_running_stats=True\n",
       "          (drop): Identity()\n",
       "          (act): SiLU(inplace=True)\n",
       "        )\n",
       "        (conv_dw): Conv2d(1152, 1152, kernel_size=(5, 5), stride=(1, 1), padding=(2, 2), groups=1152, bias=False)\n",
       "        (bn2): BatchNormAct2d(\n",
       "          1152, eps=1e-05, momentum=0.1, affine=True, track_running_stats=True\n",
       "          (drop): Identity()\n",
       "          (act): SiLU(inplace=True)\n",
       "        )\n",
       "        (se): SqueezeExcite(\n",
       "          (conv_reduce): Conv2d(1152, 48, kernel_size=(1, 1), stride=(1, 1))\n",
       "          (act1): SiLU(inplace=True)\n",
       "          (conv_expand): Conv2d(48, 1152, kernel_size=(1, 1), stride=(1, 1))\n",
       "          (gate): Sigmoid()\n",
       "        )\n",
       "        (conv_pwl): Conv2d(1152, 192, kernel_size=(1, 1), stride=(1, 1), bias=False)\n",
       "        (bn3): BatchNormAct2d(\n",
       "          192, eps=1e-05, momentum=0.1, affine=True, track_running_stats=True\n",
       "          (drop): Identity()\n",
       "          (act): Identity()\n",
       "        )\n",
       "        (drop_path): Identity()\n",
       "      )\n",
       "      (3): InvertedResidual(\n",
       "        (conv_pw): Conv2d(192, 1152, kernel_size=(1, 1), stride=(1, 1), bias=False)\n",
       "        (bn1): BatchNormAct2d(\n",
       "          1152, eps=1e-05, momentum=0.1, affine=True, track_running_stats=True\n",
       "          (drop): Identity()\n",
       "          (act): SiLU(inplace=True)\n",
       "        )\n",
       "        (conv_dw): Conv2d(1152, 1152, kernel_size=(5, 5), stride=(1, 1), padding=(2, 2), groups=1152, bias=False)\n",
       "        (bn2): BatchNormAct2d(\n",
       "          1152, eps=1e-05, momentum=0.1, affine=True, track_running_stats=True\n",
       "          (drop): Identity()\n",
       "          (act): SiLU(inplace=True)\n",
       "        )\n",
       "        (se): SqueezeExcite(\n",
       "          (conv_reduce): Conv2d(1152, 48, kernel_size=(1, 1), stride=(1, 1))\n",
       "          (act1): SiLU(inplace=True)\n",
       "          (conv_expand): Conv2d(48, 1152, kernel_size=(1, 1), stride=(1, 1))\n",
       "          (gate): Sigmoid()\n",
       "        )\n",
       "        (conv_pwl): Conv2d(1152, 192, kernel_size=(1, 1), stride=(1, 1), bias=False)\n",
       "        (bn3): BatchNormAct2d(\n",
       "          192, eps=1e-05, momentum=0.1, affine=True, track_running_stats=True\n",
       "          (drop): Identity()\n",
       "          (act): Identity()\n",
       "        )\n",
       "        (drop_path): Identity()\n",
       "      )\n",
       "    )\n",
       "    (6): Sequential(\n",
       "      (0): InvertedResidual(\n",
       "        (conv_pw): Conv2d(192, 1152, kernel_size=(1, 1), stride=(1, 1), bias=False)\n",
       "        (bn1): BatchNormAct2d(\n",
       "          1152, eps=1e-05, momentum=0.1, affine=True, track_running_stats=True\n",
       "          (drop): Identity()\n",
       "          (act): SiLU(inplace=True)\n",
       "        )\n",
       "        (conv_dw): Conv2d(1152, 1152, kernel_size=(3, 3), stride=(1, 1), padding=(1, 1), groups=1152, bias=False)\n",
       "        (bn2): BatchNormAct2d(\n",
       "          1152, eps=1e-05, momentum=0.1, affine=True, track_running_stats=True\n",
       "          (drop): Identity()\n",
       "          (act): SiLU(inplace=True)\n",
       "        )\n",
       "        (se): SqueezeExcite(\n",
       "          (conv_reduce): Conv2d(1152, 48, kernel_size=(1, 1), stride=(1, 1))\n",
       "          (act1): SiLU(inplace=True)\n",
       "          (conv_expand): Conv2d(48, 1152, kernel_size=(1, 1), stride=(1, 1))\n",
       "          (gate): Sigmoid()\n",
       "        )\n",
       "        (conv_pwl): Conv2d(1152, 320, kernel_size=(1, 1), stride=(1, 1), bias=False)\n",
       "        (bn3): BatchNormAct2d(\n",
       "          320, eps=1e-05, momentum=0.1, affine=True, track_running_stats=True\n",
       "          (drop): Identity()\n",
       "          (act): Identity()\n",
       "        )\n",
       "        (drop_path): Identity()\n",
       "      )\n",
       "    )\n",
       "  )\n",
       "  (conv_head): Conv2d(320, 1280, kernel_size=(1, 1), stride=(1, 1), bias=False)\n",
       "  (bn2): BatchNormAct2d(\n",
       "    1280, eps=1e-05, momentum=0.1, affine=True, track_running_stats=True\n",
       "    (drop): Identity()\n",
       "    (act): SiLU(inplace=True)\n",
       "  )\n",
       "  (global_pool): SelectAdaptivePool2d (pool_type=avg, flatten=Flatten(start_dim=1, end_dim=-1))\n",
       "  (classifier): Linear(in_features=1280, out_features=1000, bias=True)\n",
       ")"
      ]
     },
     "execution_count": 11,
     "metadata": {},
     "output_type": "execute_result"
    }
   ],
   "source": [
    "# idx = 1035\n",
    "# img=cv.cvtColor(np.array(Image.open('/kaggle/input/ai-of-god-v20/train/'+str(idx)+'.jpg')),cv.COLOR_GRAY2RGB)\n",
    "# x=transform(image=img)\n",
    "# # x = img\n",
    "# for k,v in x.items():\n",
    "#     p\n",
    "model_timm"
   ]
  },
  {
   "cell_type": "code",
   "execution_count": 12,
   "id": "e5f6b8b7",
   "metadata": {
    "execution": {
     "iopub.execute_input": "2024-01-22T05:32:42.841117Z",
     "iopub.status.busy": "2024-01-22T05:32:42.840838Z",
     "iopub.status.idle": "2024-01-22T05:32:42.848723Z",
     "shell.execute_reply": "2024-01-22T05:32:42.847977Z"
    },
    "papermill": {
     "duration": 0.021318,
     "end_time": "2024-01-22T05:32:42.850602",
     "exception": false,
     "start_time": "2024-01-22T05:32:42.829284",
     "status": "completed"
    },
    "tags": []
   },
   "outputs": [],
   "source": [
    "class Identity(nn.Module):\n",
    "    def __init__(self):\n",
    "        super(Identity, self).__init__()\n",
    "        \n",
    "    def forward(self, x):\n",
    "        return x\n",
    "for param in model_timm.parameters():\n",
    "    param.requires_grad = False\n",
    "model_timm.classifier=Identity()\n",
    "model_timm.classifier=nn.Linear(1280,8)\n",
    "model_timm.classifier.requires_grad=True\n",
    "model = model_timm\n",
    "# model = nn.Sequential(model_timm,\n",
    "#                       nn.BatchNorm1d(256),\n",
    "#                       nn.ReLU(),\n",
    "#                       nn.Dropout(0.5),\n",
    "#                       nn.Linear(256,64),\n",
    "#                       nn.BatchNorm1d(64),\n",
    "#                       nn.ReLU(),\n",
    "#                       nn.Dropout(0.5),\n",
    "#                       nn.Linear(64,8),\n",
    "# #                       nn.Softmax(dim = 1)\n",
    "#                      )"
   ]
  },
  {
   "cell_type": "code",
   "execution_count": 13,
   "id": "e0ba7559",
   "metadata": {
    "execution": {
     "iopub.execute_input": "2024-01-22T05:32:42.873043Z",
     "iopub.status.busy": "2024-01-22T05:32:42.872781Z",
     "iopub.status.idle": "2024-01-22T05:32:42.876293Z",
     "shell.execute_reply": "2024-01-22T05:32:42.875541Z"
    },
    "papermill": {
     "duration": 0.016677,
     "end_time": "2024-01-22T05:32:42.878047",
     "exception": false,
     "start_time": "2024-01-22T05:32:42.861370",
     "status": "completed"
    },
    "tags": []
   },
   "outputs": [],
   "source": [
    "# count=np.zeros((8))\n",
    "# for i in range(len(train)):\n",
    "#     count[train[i]['y']]=count[train[i]['y']]+1"
   ]
  },
  {
   "cell_type": "code",
   "execution_count": 14,
   "id": "948ce65e",
   "metadata": {
    "execution": {
     "iopub.execute_input": "2024-01-22T05:32:42.900503Z",
     "iopub.status.busy": "2024-01-22T05:32:42.900065Z",
     "iopub.status.idle": "2024-01-22T05:32:42.903595Z",
     "shell.execute_reply": "2024-01-22T05:32:42.902829Z"
    },
    "papermill": {
     "duration": 0.016801,
     "end_time": "2024-01-22T05:32:42.905520",
     "exception": false,
     "start_time": "2024-01-22T05:32:42.888719",
     "status": "completed"
    },
    "tags": []
   },
   "outputs": [],
   "source": [
    "# count\n",
    "# model[-7]"
   ]
  },
  {
   "cell_type": "code",
   "execution_count": 15,
   "id": "99429992",
   "metadata": {
    "execution": {
     "iopub.execute_input": "2024-01-22T05:32:42.928117Z",
     "iopub.status.busy": "2024-01-22T05:32:42.927678Z",
     "iopub.status.idle": "2024-01-22T05:32:42.931532Z",
     "shell.execute_reply": "2024-01-22T05:32:42.930701Z"
    },
    "papermill": {
     "duration": 0.01732,
     "end_time": "2024-01-22T05:32:42.933454",
     "exception": false,
     "start_time": "2024-01-22T05:32:42.916134",
     "status": "completed"
    },
    "tags": []
   },
   "outputs": [],
   "source": [
    "# weights={}\n",
    "# for i in range(len(count)):\n",
    "#     weights[i]=len(train)/count[i]\n",
    "# # weights[0]/=10\n",
    "# # weights[1]/=5\n",
    "# # weights[2]/=4\n",
    "# # weights[4]/=4\n",
    "# # weights[6]/=4\n",
    "# lweights=[weights[i] for i in range(8)]"
   ]
  },
  {
   "cell_type": "code",
   "execution_count": 16,
   "id": "5b64d2bc",
   "metadata": {
    "execution": {
     "iopub.execute_input": "2024-01-22T05:32:42.956134Z",
     "iopub.status.busy": "2024-01-22T05:32:42.955473Z",
     "iopub.status.idle": "2024-01-22T05:32:42.959203Z",
     "shell.execute_reply": "2024-01-22T05:32:42.958375Z"
    },
    "papermill": {
     "duration": 0.01701,
     "end_time": "2024-01-22T05:32:42.961047",
     "exception": false,
     "start_time": "2024-01-22T05:32:42.944037",
     "status": "completed"
    },
    "tags": []
   },
   "outputs": [],
   "source": [
    "# lweights"
   ]
  },
  {
   "cell_type": "code",
   "execution_count": 17,
   "id": "4017373c",
   "metadata": {
    "execution": {
     "iopub.execute_input": "2024-01-22T05:32:42.984685Z",
     "iopub.status.busy": "2024-01-22T05:32:42.984138Z",
     "iopub.status.idle": "2024-01-22T05:32:42.994408Z",
     "shell.execute_reply": "2024-01-22T05:32:42.993655Z"
    },
    "papermill": {
     "duration": 0.023128,
     "end_time": "2024-01-22T05:32:42.996164",
     "exception": false,
     "start_time": "2024-01-22T05:32:42.973036",
     "status": "completed"
    },
    "tags": []
   },
   "outputs": [
    {
     "data": {
      "text/plain": [
       "tensor([0], device='cuda:0')"
      ]
     },
     "execution_count": 17,
     "metadata": {},
     "output_type": "execute_result"
    }
   ],
   "source": [
    "train[0]['y']"
   ]
  },
  {
   "cell_type": "code",
   "execution_count": 18,
   "id": "19ef8f37",
   "metadata": {
    "execution": {
     "iopub.execute_input": "2024-01-22T05:32:43.018575Z",
     "iopub.status.busy": "2024-01-22T05:32:43.018290Z",
     "iopub.status.idle": "2024-01-22T05:32:43.021902Z",
     "shell.execute_reply": "2024-01-22T05:32:43.021059Z"
    },
    "papermill": {
     "duration": 0.016827,
     "end_time": "2024-01-22T05:32:43.023735",
     "exception": false,
     "start_time": "2024-01-22T05:32:43.006908",
     "status": "completed"
    },
    "tags": []
   },
   "outputs": [],
   "source": [
    "# weight_list=[]\n",
    "# for i in range(len(train)):\n",
    "#     weight_list.append(lweights[int(train[i]['y'])])\n",
    "# t_weight=torch.tensor(weight_list)"
   ]
  },
  {
   "cell_type": "code",
   "execution_count": 19,
   "id": "43cfb307",
   "metadata": {
    "execution": {
     "iopub.execute_input": "2024-01-22T05:32:43.046138Z",
     "iopub.status.busy": "2024-01-22T05:32:43.045887Z",
     "iopub.status.idle": "2024-01-22T05:32:43.052954Z",
     "shell.execute_reply": "2024-01-22T05:32:43.052174Z"
    },
    "papermill": {
     "duration": 0.020337,
     "end_time": "2024-01-22T05:32:43.054715",
     "exception": false,
     "start_time": "2024-01-22T05:32:43.034378",
     "status": "completed"
    },
    "tags": []
   },
   "outputs": [
    {
     "data": {
      "text/plain": [
       "219"
      ]
     },
     "execution_count": 19,
     "metadata": {},
     "output_type": "execute_result"
    }
   ],
   "source": [
    "# sampler=WeightedRandomSampler(t_weight.type(torch.DoubleTensor),len(weight_list))\n",
    "batch_size = 32\n",
    "data_load=DataLoader(dataset=train,batch_size=batch_size, shuffle = True)\n",
    "val_load=DataLoader(dataset=val,batch_size=8)\n",
    "len(data_load)"
   ]
  },
  {
   "cell_type": "code",
   "execution_count": 20,
   "id": "c2182f0c",
   "metadata": {
    "execution": {
     "iopub.execute_input": "2024-01-22T05:32:43.077771Z",
     "iopub.status.busy": "2024-01-22T05:32:43.077098Z",
     "iopub.status.idle": "2024-01-22T05:32:43.086022Z",
     "shell.execute_reply": "2024-01-22T05:32:43.084993Z"
    },
    "papermill": {
     "duration": 0.022343,
     "end_time": "2024-01-22T05:32:43.087926",
     "exception": false,
     "start_time": "2024-01-22T05:32:43.065583",
     "status": "completed"
    },
    "tags": []
   },
   "outputs": [
    {
     "name": "stdout",
     "output_type": "stream",
     "text": [
      "<class 'torch.Tensor'>\n"
     ]
    }
   ],
   "source": [
    "for data in train:\n",
    "    print(type(data['x']))\n",
    "    break"
   ]
  },
  {
   "cell_type": "code",
   "execution_count": 21,
   "id": "c596734b",
   "metadata": {
    "execution": {
     "iopub.execute_input": "2024-01-22T05:32:43.110624Z",
     "iopub.status.busy": "2024-01-22T05:32:43.110349Z",
     "iopub.status.idle": "2024-01-22T05:32:43.254282Z",
     "shell.execute_reply": "2024-01-22T05:32:43.253425Z"
    },
    "papermill": {
     "duration": 0.157261,
     "end_time": "2024-01-22T05:32:43.256136",
     "exception": false,
     "start_time": "2024-01-22T05:32:43.098875",
     "status": "completed"
    },
    "tags": []
   },
   "outputs": [
    {
     "data": {
      "text/plain": [
       "array(['1.jpg', '10.jpg', '100.jpg', ..., '997.jpg', '998.jpg', '999.jpg'],\n",
       "      dtype='<U8')"
      ]
     },
     "execution_count": 21,
     "metadata": {},
     "output_type": "execute_result"
    }
   ],
   "source": [
    "test_csv = np.sort(os.listdir('/kaggle/input/ai-of-god-v20/test'))\n",
    "test_csv"
   ]
  },
  {
   "cell_type": "code",
   "execution_count": 22,
   "id": "4d8e782b",
   "metadata": {
    "execution": {
     "iopub.execute_input": "2024-01-22T05:32:43.279507Z",
     "iopub.status.busy": "2024-01-22T05:32:43.279228Z",
     "iopub.status.idle": "2024-01-22T05:32:43.300417Z",
     "shell.execute_reply": "2024-01-22T05:32:43.299759Z"
    },
    "papermill": {
     "duration": 0.034946,
     "end_time": "2024-01-22T05:32:43.302265",
     "exception": false,
     "start_time": "2024-01-22T05:32:43.267319",
     "status": "completed"
    },
    "tags": []
   },
   "outputs": [],
   "source": [
    "model=model.to(device)"
   ]
  },
  {
   "cell_type": "code",
   "execution_count": 23,
   "id": "fe4d01d2",
   "metadata": {
    "execution": {
     "iopub.execute_input": "2024-01-22T05:32:43.325574Z",
     "iopub.status.busy": "2024-01-22T05:32:43.325270Z",
     "iopub.status.idle": "2024-01-22T05:32:43.329135Z",
     "shell.execute_reply": "2024-01-22T05:32:43.328362Z"
    },
    "papermill": {
     "duration": 0.017701,
     "end_time": "2024-01-22T05:32:43.331022",
     "exception": false,
     "start_time": "2024-01-22T05:32:43.313321",
     "status": "completed"
    },
    "tags": []
   },
   "outputs": [],
   "source": [
    "batch_size = 32"
   ]
  },
  {
   "cell_type": "code",
   "execution_count": null,
   "id": "b8e8a399",
   "metadata": {
    "execution": {
     "iopub.execute_input": "2024-01-22T05:05:05.051357Z",
     "iopub.status.busy": "2024-01-22T05:05:05.050925Z",
     "iopub.status.idle": "2024-01-22T05:18:26.379974Z",
     "shell.execute_reply": "2024-01-22T05:18:26.379135Z",
     "shell.execute_reply.started": "2024-01-22T05:05:05.051322Z"
    },
    "papermill": {
     "duration": null,
     "end_time": null,
     "exception": false,
     "start_time": "2024-01-22T05:32:43.383310",
     "status": "running"
    },
    "scrolled": true,
    "tags": []
   },
   "outputs": [],
   "source": [
    "optimizer=torch.optim.Adam(model.parameters(),lr = 1e-5)\n",
    "criterion = nn.CrossEntropyLoss()\n",
    "model.train()\n",
    "epoch_losses=[]\n",
    "n_total_steps=len(data_load)\n",
    "num_epochs=20\n",
    "f1=F1Score(num_classes=8)\n",
    "for epoch in range(num_epochs):\n",
    "    epoch_loss=0\n",
    "    val_score=0\n",
    "    epoch_acc=0\n",
    "    for i,data in enumerate(data_load):\n",
    "        x=data['x'].to(device)\n",
    "        y=data['y'].to(device)\n",
    "        one_hot_labels=((F.one_hot(y,num_classes=8)).reshape(data['x'].shape[0],8)).type(torch.float32)\n",
    "        outputs=model(x)\n",
    "#         print(outputs.shape)\n",
    "#         loss=sigmoid_focal_loss(outputs,one_hot_labels,reduction='sum')\n",
    "        loss = criterion(outputs,y.flatten())\n",
    "        epoch_loss+=(loss.item())\n",
    "        optimizer.zero_grad()\n",
    "        loss.backward()\n",
    "        optimizer.step()\n",
    "        epoch_acc += torch.sum(y==torch.argmax(outputs, axis = 1, keepdim = True))\n",
    "        print(f\"epoch: {epoch+1}/{num_epochs}| step: {i+1}/{n_total_steps}, loss: {epoch_loss/(i+1):.3f}\")\n",
    "    print(f\"epoch: {epoch+1}/{num_epochs} ended with accuracy: {epoch_acc/batch_size}\")\n",
    "    epoch_losses.append(epoch_loss)"
   ]
  },
  {
   "cell_type": "code",
   "execution_count": null,
   "id": "e1b02907",
   "metadata": {
    "execution": {
     "iopub.execute_input": "2024-01-22T05:22:42.390671Z",
     "iopub.status.busy": "2024-01-22T05:22:42.390237Z",
     "iopub.status.idle": "2024-01-22T05:22:42.397923Z",
     "shell.execute_reply": "2024-01-22T05:22:42.396912Z",
     "shell.execute_reply.started": "2024-01-22T05:22:42.390642Z"
    },
    "papermill": {
     "duration": null,
     "end_time": null,
     "exception": null,
     "start_time": null,
     "status": "pending"
    },
    "tags": []
   },
   "outputs": [],
   "source": [
    "epoch_losses\n",
    "\n",
    "# del val_load\n",
    "# del data_load"
   ]
  },
  {
   "cell_type": "code",
   "execution_count": null,
   "id": "b5c7a140",
   "metadata": {
    "execution": {
     "iopub.execute_input": "2024-01-22T05:23:40.051524Z",
     "iopub.status.busy": "2024-01-22T05:23:40.050570Z",
     "iopub.status.idle": "2024-01-22T05:23:57.697360Z",
     "shell.execute_reply": "2024-01-22T05:23:57.696266Z",
     "shell.execute_reply.started": "2024-01-22T05:23:40.051488Z"
    },
    "papermill": {
     "duration": null,
     "end_time": null,
     "exception": null,
     "start_time": null,
     "status": "pending"
    },
    "tags": []
   },
   "outputs": [],
   "source": [
    "val_load=DataLoader(dataset=val,batch_size=8)\n",
    "f1=F1Score(num_classes=8)\n",
    "y_preds = []\n",
    "model.eval()\n",
    "\n",
    "# model[-3] = Identity()\n",
    "# model[-7] = Identity()\n",
    "for data in val_load:\n",
    "    x=data['x']\n",
    "    y=data['y']\n",
    "    predicted=model(x)\n",
    "    y_preds.append(torch.argmax(predicted, keepdims = True, axis = 1))\n",
    "val_load=DataLoader(dataset=val,batch_size=2048)\n",
    "y = None\n",
    "y_fin = [i for j in y_preds for i in j]\n",
    "y_fin = torch.tensor(y_fin).reshape(-1,1)\n",
    "for data in val_load:\n",
    "#     print(data['y'])\n",
    "    y = data['y']\n",
    "    \n",
    "# print(torch.count_nonzero(y))\n",
    "y=y.detach().cpu()\n",
    "np_yfin=np.array(y_fin)\n",
    "np_y=np.array(y)\n",
    "print(np_y.shape)\n",
    "print(np_yfin.shape)\n",
    "print(f1_score(np_yfin, np_y, average = 'macro'))"
   ]
  },
  {
   "cell_type": "code",
   "execution_count": null,
   "id": "c1a967d9",
   "metadata": {
    "execution": {
     "iopub.execute_input": "2024-01-22T05:24:02.918483Z",
     "iopub.status.busy": "2024-01-22T05:24:02.918075Z",
     "iopub.status.idle": "2024-01-22T05:24:02.925955Z",
     "shell.execute_reply": "2024-01-22T05:24:02.924957Z",
     "shell.execute_reply.started": "2024-01-22T05:24:02.918449Z"
    },
    "papermill": {
     "duration": null,
     "end_time": null,
     "exception": null,
     "start_time": null,
     "status": "pending"
    },
    "tags": []
   },
   "outputs": [],
   "source": [
    "# class tdataset(Dataset):\n",
    "#     def __init__(self,folder=None):\n",
    "#         self.model=model.eval()\n",
    "#         self.transform=ttransform\n",
    "#         self.folder=folder\n",
    "#         self.lis=np.sort(os.listdir(folder))\n",
    "#     def __len__(self):    \n",
    "#         return self.lis.size\n",
    "#     def __getitem__(self,url):\n",
    "#         img=cv.cvtColor(np.array(Image.open(self.folder+'/'+url)),cv.COLOR_GRAY2RGB)\n",
    "#         x=self.transform(image=img)\n",
    "#         x['image']=((x['image'].reshape((1,*x['image'].shape))).type(torch.float32)).to(device)\n",
    "#         return torch.argmax(self.model(x['image']),dim = 1).detach().cpu().numpy()\n",
    "\n",
    "class tdataset(Dataset):\n",
    "    def __init__(self,folder,transform=None):\n",
    "        self.dir = folder\n",
    "        self.transform = transform\n",
    "        \n",
    "    def __len__(self):\n",
    "        return len(os.listdir(self.dir))\n",
    "    \n",
    "    def __getitem__(self,idx):\n",
    "        img=cv.cvtColor(np.array(Image.open(self.dir+str(idx+1)+'.jpg')),cv.COLOR_GRAY2RGB)\n",
    "        img = self.transform(image=img)\n",
    "        dic = {'image':img['image']}\n",
    "        return dic"
   ]
  },
  {
   "cell_type": "code",
   "execution_count": null,
   "id": "1a531161",
   "metadata": {
    "execution": {
     "iopub.execute_input": "2024-01-22T05:25:08.687499Z",
     "iopub.status.busy": "2024-01-22T05:25:08.686795Z",
     "iopub.status.idle": "2024-01-22T05:25:08.692129Z",
     "shell.execute_reply": "2024-01-22T05:25:08.691032Z",
     "shell.execute_reply.started": "2024-01-22T05:25:08.687450Z"
    },
    "papermill": {
     "duration": null,
     "end_time": null,
     "exception": null,
     "start_time": null,
     "status": "pending"
    },
    "tags": []
   },
   "outputs": [],
   "source": [
    "test=tdataset('/kaggle/input/ai-of-god-v20/test/',transform)"
   ]
  },
  {
   "cell_type": "code",
   "execution_count": null,
   "id": "1e2e12e8",
   "metadata": {
    "execution": {
     "iopub.execute_input": "2024-01-22T05:25:10.156017Z",
     "iopub.status.busy": "2024-01-22T05:25:10.155360Z",
     "iopub.status.idle": "2024-01-22T05:25:10.160439Z",
     "shell.execute_reply": "2024-01-22T05:25:10.159463Z",
     "shell.execute_reply.started": "2024-01-22T05:25:10.155986Z"
    },
    "papermill": {
     "duration": null,
     "end_time": null,
     "exception": null,
     "start_time": null,
     "status": "pending"
    },
    "tags": []
   },
   "outputs": [],
   "source": [
    "test_load = DataLoader(test, batch_size=256, shuffle=False)"
   ]
  },
  {
   "cell_type": "code",
   "execution_count": null,
   "id": "8c534be8",
   "metadata": {
    "execution": {
     "iopub.execute_input": "2024-01-22T05:25:16.385470Z",
     "iopub.status.busy": "2024-01-22T05:25:16.384544Z",
     "iopub.status.idle": "2024-01-22T05:25:16.416998Z",
     "shell.execute_reply": "2024-01-22T05:25:16.415944Z",
     "shell.execute_reply.started": "2024-01-22T05:25:16.385433Z"
    },
    "papermill": {
     "duration": null,
     "end_time": null,
     "exception": null,
     "start_time": null,
     "status": "pending"
    },
    "tags": []
   },
   "outputs": [],
   "source": [
    "test[0]\n"
   ]
  },
  {
   "cell_type": "code",
   "execution_count": null,
   "id": "bf5215ac",
   "metadata": {
    "execution": {
     "iopub.execute_input": "2024-01-22T05:25:19.663940Z",
     "iopub.status.busy": "2024-01-22T05:25:19.663538Z",
     "iopub.status.idle": "2024-01-22T05:25:37.639834Z",
     "shell.execute_reply": "2024-01-22T05:25:37.638679Z",
     "shell.execute_reply.started": "2024-01-22T05:25:19.663907Z"
    },
    "papermill": {
     "duration": null,
     "end_time": null,
     "exception": null,
     "start_time": null,
     "status": "pending"
    },
    "tags": []
   },
   "outputs": [],
   "source": [
    "predictions =[]\n",
    "for data in test_load:\n",
    "    images = data['image'].to(device)\n",
    "        \n",
    "    with torch.no_grad():\n",
    "        output = model(images)\n",
    "        predictions.append(output.to('cpu').numpy())\n",
    "\n",
    "predictions = np.concatenate(predictions)\n",
    "predictions = predictions.argmax(1)"
   ]
  },
  {
   "cell_type": "code",
   "execution_count": null,
   "id": "12dc8522",
   "metadata": {
    "execution": {
     "iopub.execute_input": "2024-01-22T05:28:00.830755Z",
     "iopub.status.busy": "2024-01-22T05:28:00.829800Z",
     "iopub.status.idle": "2024-01-22T05:28:00.836450Z",
     "shell.execute_reply": "2024-01-22T05:28:00.835589Z",
     "shell.execute_reply.started": "2024-01-22T05:28:00.830720Z"
    },
    "papermill": {
     "duration": null,
     "end_time": null,
     "exception": null,
     "start_time": null,
     "status": "pending"
    },
    "tags": []
   },
   "outputs": [],
   "source": [
    "len(predictions)"
   ]
  },
  {
   "cell_type": "code",
   "execution_count": null,
   "id": "2224a961",
   "metadata": {
    "execution": {
     "iopub.execute_input": "2024-01-22T05:28:03.778052Z",
     "iopub.status.busy": "2024-01-22T05:28:03.777426Z",
     "iopub.status.idle": "2024-01-22T05:28:03.789563Z",
     "shell.execute_reply": "2024-01-22T05:28:03.788617Z",
     "shell.execute_reply.started": "2024-01-22T05:28:03.778020Z"
    },
    "papermill": {
     "duration": null,
     "end_time": null,
     "exception": null,
     "start_time": null,
     "status": "pending"
    },
    "tags": []
   },
   "outputs": [],
   "source": [
    "subm=pd.read_csv(\"/kaggle/input/ai-of-god-v20/test.csv\")"
   ]
  },
  {
   "cell_type": "code",
   "execution_count": null,
   "id": "37731fee",
   "metadata": {
    "execution": {
     "iopub.execute_input": "2024-01-22T05:28:08.272054Z",
     "iopub.status.busy": "2024-01-22T05:28:08.271230Z",
     "iopub.status.idle": "2024-01-22T05:28:08.276290Z",
     "shell.execute_reply": "2024-01-22T05:28:08.275170Z",
     "shell.execute_reply.started": "2024-01-22T05:28:08.272019Z"
    },
    "papermill": {
     "duration": null,
     "end_time": null,
     "exception": null,
     "start_time": null,
     "status": "pending"
    },
    "tags": []
   },
   "outputs": [],
   "source": [
    "# subm = pd.read_csv('/kaggle/input/ai-of-god-v20/sample_submission.csv', index_col = \"FileName\")\n",
    "# for i in range(len(subm.index)):\n",
    "#     subm.iloc[i,0]=test[subm.index[i]]"
   ]
  },
  {
   "cell_type": "code",
   "execution_count": null,
   "id": "cf0c501d",
   "metadata": {
    "execution": {
     "iopub.execute_input": "2024-01-22T05:28:09.195144Z",
     "iopub.status.busy": "2024-01-22T05:28:09.194733Z",
     "iopub.status.idle": "2024-01-22T05:28:09.199808Z",
     "shell.execute_reply": "2024-01-22T05:28:09.198731Z",
     "shell.execute_reply.started": "2024-01-22T05:28:09.195113Z"
    },
    "papermill": {
     "duration": null,
     "end_time": null,
     "exception": null,
     "start_time": null,
     "status": "pending"
    },
    "tags": []
   },
   "outputs": [],
   "source": [
    "# y = data['y'].detach().cpu()\n",
    "# print(\"Predicted percentage of each class in Test:\\n\",torch.tensor(subm.value_counts()/subm.value_counts().sum()))\n",
    "# f,a = plt.subplots(nrows = 1, ncols = 2)\n",
    "# a[0].bar(np.arange(8),np.bincount(subm.iloc[:,0].to_numpy())/np.sum(subm.value_counts()))\n",
    "# a[0].set_title('Test Distrib.')\n",
    "# print(\"Percentage of each class in Train:\\n\",torch.bincount(y.reshape(-1))/torch.sum(torch.bincount(y.reshape(-1))))\n",
    "# a[1].bar(np.arange(8),(torch.bincount(y.reshape(-1)))/torch.sum(torch.bincount(y.reshape(-1))))\n",
    "# a[1].set_title('Train Distrib.')\n",
    "\n",
    "# plt.show()"
   ]
  },
  {
   "cell_type": "code",
   "execution_count": null,
   "id": "dc4ec5f9",
   "metadata": {
    "execution": {
     "iopub.execute_input": "2024-01-22T05:28:11.870829Z",
     "iopub.status.busy": "2024-01-22T05:28:11.869924Z",
     "iopub.status.idle": "2024-01-22T05:28:11.899206Z",
     "shell.execute_reply": "2024-01-22T05:28:11.898206Z",
     "shell.execute_reply.started": "2024-01-22T05:28:11.870796Z"
    },
    "papermill": {
     "duration": null,
     "end_time": null,
     "exception": null,
     "start_time": null,
     "status": "pending"
    },
    "tags": []
   },
   "outputs": [],
   "source": [
    "subm['Class']=predictions\n",
    "b=np.bincount(predictions)\n",
    "print(b)\n",
    "subm.to_csv('submission.csv',index=False)\n",
    "subm"
   ]
  }
 ],
 "metadata": {
  "kaggle": {
   "accelerator": "gpu",
   "dataSources": [
    {
     "databundleVersionId": 6696514,
     "sourceId": 61883,
     "sourceType": "competition"
    }
   ],
   "dockerImageVersionId": 30559,
   "isGpuEnabled": true,
   "isInternetEnabled": true,
   "language": "python",
   "sourceType": "notebook"
  },
  "kernelspec": {
   "display_name": "Python 3",
   "language": "python",
   "name": "python3"
  },
  "language_info": {
   "codemirror_mode": {
    "name": "ipython",
    "version": 3
   },
   "file_extension": ".py",
   "mimetype": "text/x-python",
   "name": "python",
   "nbconvert_exporter": "python",
   "pygments_lexer": "ipython3",
   "version": "3.10.12"
  },
  "papermill": {
   "default_parameters": {},
   "duration": null,
   "end_time": null,
   "environment_variables": {},
   "exception": null,
   "input_path": "__notebook__.ipynb",
   "output_path": "__notebook__.ipynb",
   "parameters": {},
   "start_time": "2024-01-22T05:32:21.293157",
   "version": "2.4.0"
  }
 },
 "nbformat": 4,
 "nbformat_minor": 5
}